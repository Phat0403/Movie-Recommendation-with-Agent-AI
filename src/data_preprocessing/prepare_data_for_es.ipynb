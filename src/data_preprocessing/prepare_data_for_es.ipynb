{
 "cells": [
  {
   "cell_type": "code",
   "execution_count": 1,
   "id": "6e8770e3",
   "metadata": {},
   "outputs": [],
   "source": [
    "import pandas as pd"
   ]
  },
  {
   "cell_type": "code",
   "execution_count": 2,
   "id": "aac06c51",
   "metadata": {},
   "outputs": [],
   "source": [
    "movie_df = pd.read_csv(\"../backend/data/movies_2020_new.csv\")\n",
    "principal_df = pd.read_csv(\"../backend/data/new_title_principals.csv\")\n",
    "name_df = pd.read_csv(\"../backend/data/new_name_basics.csv\")"
   ]
  },
  {
   "cell_type": "code",
   "execution_count": 3,
   "id": "1e3a2181",
   "metadata": {},
   "outputs": [],
   "source": [
    "# left join movie_df with principal_df\n",
    "movie_df = movie_df.merge(principal_df, on=\"tconst\", how=\"left\")\n",
    "# left join movie_df with name_df\n",
    "movie_df = movie_df.merge(name_df, left_on=\"nconst\", right_on=\"nconst\", how=\"left\")"
   ]
  },
  {
   "cell_type": "code",
   "execution_count": 4,
   "id": "15a78e0a",
   "metadata": {},
   "outputs": [
    {
     "data": {
      "text/plain": [
       "Index(['tconst', 'titleType', 'primaryTitle', 'originalTitle', 'isAdult',\n",
       "       'startYear', 'runtimeMinutes', 'genres', 'posterPath', 'backdropPath',\n",
       "       'trailerPath', 'description', 'ordering', 'nconst', 'category', 'job',\n",
       "       'characters', 'primaryName', 'birthYear', 'deathYear',\n",
       "       'primaryProfession', 'knownForTitles'],\n",
       "      dtype='object')"
      ]
     },
     "execution_count": 4,
     "metadata": {},
     "output_type": "execute_result"
    }
   ],
   "source": [
    "movie_df.columns"
   ]
  },
  {
   "cell_type": "code",
   "execution_count": 5,
   "id": "da0b3b0a",
   "metadata": {},
   "outputs": [],
   "source": [
    "movie_director_df = movie_df[(movie_df[\"category\"] == \"director\")].reset_index(drop=True)"
   ]
  },
  {
   "cell_type": "code",
   "execution_count": 6,
   "id": "e42f8129",
   "metadata": {},
   "outputs": [
    {
     "name": "stderr",
     "output_type": "stream",
     "text": [
      "/tmp/ipykernel_26967/3164321350.py:1: FutureWarning: A value is trying to be set on a copy of a DataFrame or Series through chained assignment using an inplace method.\n",
      "The behavior will change in pandas 3.0. This inplace method will never work because the intermediate object on which we are setting values always behaves as a copy.\n",
      "\n",
      "For example, when doing 'df[col].method(value, inplace=True)', try using 'df.method({col: value}, inplace=True)' or df[col] = df[col].method(value) instead, to perform the operation inplace on the original object.\n",
      "\n",
      "\n",
      "  movie_director_df[\"primaryName\"].fillna(\"Unknown\", inplace=True)\n"
     ]
    }
   ],
   "source": [
    "movie_director_df[\"primaryName\"].fillna(\"Unknown\", inplace=True)"
   ]
  },
  {
   "cell_type": "code",
   "execution_count": 7,
   "id": "f3a06ecb",
   "metadata": {},
   "outputs": [
    {
     "data": {
      "text/plain": [
       "(16046, 13)"
      ]
     },
     "execution_count": 7,
     "metadata": {},
     "output_type": "execute_result"
    }
   ],
   "source": [
    "movie_director_list_df = movie_director_df.groupby(\"tconst\")[\"primaryName\"].apply(lambda x: ', '.join(x)).reset_index()\n",
    "movie_df = pd.read_csv(\"../backend/data/movies_2020_new.csv\")\n",
    "movie_director_df = movie_df.merge(movie_director_list_df, on=\"tconst\", how=\"left\")\n",
    "# movie_director_df = movie_df.drop(columns=[\"nconst\", \"category\"]).merge(movie_director_list_df, on=\"tconst\", how=\"left\")\n",
    "movie_director_df.shape"
   ]
  },
  {
   "cell_type": "code",
   "execution_count": 8,
   "id": "a1474b03",
   "metadata": {},
   "outputs": [
    {
     "data": {
      "text/plain": [
       "Index(['tconst', 'titleType', 'primaryTitle', 'originalTitle', 'isAdult',\n",
       "       'startYear', 'runtimeMinutes', 'genres', 'posterPath', 'backdropPath',\n",
       "       'trailerPath', 'description', 'primaryName'],\n",
       "      dtype='object')"
      ]
     },
     "execution_count": 8,
     "metadata": {},
     "output_type": "execute_result"
    }
   ],
   "source": [
    "movie_director_df.columns"
   ]
  },
  {
   "cell_type": "code",
   "execution_count": 9,
   "id": "47a68e3e",
   "metadata": {},
   "outputs": [],
   "source": [
    "movie_director_df.rename(columns={\"primaryName\": \"directors\"}, inplace=True)"
   ]
  },
  {
   "cell_type": "code",
   "execution_count": 10,
   "id": "6b7339a6",
   "metadata": {},
   "outputs": [],
   "source": [
    "movie_director_df = movie_director_df[[\"tconst\", \"primaryTitle\", \"startYear\", \"genres\", \"posterPath\", \"description\", \"directors\"]]"
   ]
  },
  {
   "cell_type": "code",
   "execution_count": 11,
   "id": "bba2c6d9",
   "metadata": {},
   "outputs": [],
   "source": [
    "movie_director_df[\"description\"] = movie_director_df[\"description\"].str.replace(r\"\\\\n\", \" \", regex=True)\n",
    "movie_director_df[\"description\"] = movie_director_df[\"description\"].str.replace(r\"\\\\t\", \" \", regex=True)\n",
    "movie_director_df[\"description\"] = movie_director_df[\"description\"].str.replace(r\"\\\\r\", \" \", regex=True)\n",
    "movie_director_df[\"description\"] = movie_director_df[\"description\"].str.replace(r\"\\\\\", \" \", regex=True)\n",
    "movie_director_df[\"description\"] = movie_director_df[\"description\"].str.replace(r\"\\n\", \" \", regex=True)\n",
    "movie_director_df[\"description\"] = movie_director_df[\"description\"].str.replace(r\"\\t\", \" \", regex=True)\n",
    "movie_director_df[\"description\"] = movie_director_df[\"description\"].str.replace(r\"\\r\", \" \", regex=True)\n",
    "movie_director_df[\"description\"] = movie_director_df[\"description\"].str.replace(r\"\\\\\", \" \", regex=True)"
   ]
  },
  {
   "cell_type": "code",
   "execution_count": 12,
   "id": "23d7cfe2",
   "metadata": {},
   "outputs": [
    {
     "data": {
      "text/html": [
       "<div>\n",
       "<style scoped>\n",
       "    .dataframe tbody tr th:only-of-type {\n",
       "        vertical-align: middle;\n",
       "    }\n",
       "\n",
       "    .dataframe tbody tr th {\n",
       "        vertical-align: top;\n",
       "    }\n",
       "\n",
       "    .dataframe thead th {\n",
       "        text-align: right;\n",
       "    }\n",
       "</style>\n",
       "<table border=\"1\" class=\"dataframe\">\n",
       "  <thead>\n",
       "    <tr style=\"text-align: right;\">\n",
       "      <th></th>\n",
       "      <th>tconst</th>\n",
       "      <th>primaryTitle</th>\n",
       "      <th>startYear</th>\n",
       "      <th>genres</th>\n",
       "      <th>posterPath</th>\n",
       "      <th>description</th>\n",
       "      <th>directors</th>\n",
       "    </tr>\n",
       "  </thead>\n",
       "  <tbody>\n",
       "    <tr>\n",
       "      <th>16041</th>\n",
       "      <td>tt9898844</td>\n",
       "      <td>The Hunting</td>\n",
       "      <td>2021</td>\n",
       "      <td>['Horror', 'Mystery', 'Thriller']</td>\n",
       "      <td>https://image.tmdb.org/t/p/w500/kvhrltQIRp1u84...</td>\n",
       "      <td>When a mysterious animal attack leaves a mutil...</td>\n",
       "      <td>Mark Andrew Hamer</td>\n",
       "    </tr>\n",
       "    <tr>\n",
       "      <th>16042</th>\n",
       "      <td>tt9900940</td>\n",
       "      <td>Scrapper</td>\n",
       "      <td>2021</td>\n",
       "      <td>['Crime', 'Drama', 'Thriller']</td>\n",
       "      <td>https://image.tmdb.org/t/p/w500/ydnOAvlBzdqMyB...</td>\n",
       "      <td>Ex-con turned \"scrapper\" Jake leads a quiet li...</td>\n",
       "      <td>Bari Kang</td>\n",
       "    </tr>\n",
       "    <tr>\n",
       "      <th>16043</th>\n",
       "      <td>tt9904648</td>\n",
       "      <td>The Contrast</td>\n",
       "      <td>2022</td>\n",
       "      <td>['Comedy']</td>\n",
       "      <td>https://image.tmdb.org/t/p/w500/sioXCmW4Q2VXLY...</td>\n",
       "      <td>On the day before her wedding to a hipster pla...</td>\n",
       "      <td>Sean Dube, Presley Paras</td>\n",
       "    </tr>\n",
       "    <tr>\n",
       "      <th>16044</th>\n",
       "      <td>tt9907782</td>\n",
       "      <td>The Cursed</td>\n",
       "      <td>2021</td>\n",
       "      <td>['Fantasy', 'Horror', 'Mystery']</td>\n",
       "      <td>https://image.tmdb.org/t/p/w500/bewmBcjJxHeipS...</td>\n",
       "      <td>In the late 19th century, a brutal land baron ...</td>\n",
       "      <td>Sean Ellis</td>\n",
       "    </tr>\n",
       "    <tr>\n",
       "      <th>16045</th>\n",
       "      <td>tt9914972</td>\n",
       "      <td>Blind Ambition</td>\n",
       "      <td>2021</td>\n",
       "      <td>['Documentary']</td>\n",
       "      <td>https://image.tmdb.org/t/p/w500/dVTPl57aAkGeui...</td>\n",
       "      <td>The inspiring story of four Zimbabwean men who...</td>\n",
       "      <td>Warwick Ross, Robert Coe</td>\n",
       "    </tr>\n",
       "  </tbody>\n",
       "</table>\n",
       "</div>"
      ],
      "text/plain": [
       "          tconst    primaryTitle  startYear  \\\n",
       "16041  tt9898844     The Hunting       2021   \n",
       "16042  tt9900940        Scrapper       2021   \n",
       "16043  tt9904648    The Contrast       2022   \n",
       "16044  tt9907782      The Cursed       2021   \n",
       "16045  tt9914972  Blind Ambition       2021   \n",
       "\n",
       "                                  genres  \\\n",
       "16041  ['Horror', 'Mystery', 'Thriller']   \n",
       "16042     ['Crime', 'Drama', 'Thriller']   \n",
       "16043                         ['Comedy']   \n",
       "16044   ['Fantasy', 'Horror', 'Mystery']   \n",
       "16045                    ['Documentary']   \n",
       "\n",
       "                                              posterPath  \\\n",
       "16041  https://image.tmdb.org/t/p/w500/kvhrltQIRp1u84...   \n",
       "16042  https://image.tmdb.org/t/p/w500/ydnOAvlBzdqMyB...   \n",
       "16043  https://image.tmdb.org/t/p/w500/sioXCmW4Q2VXLY...   \n",
       "16044  https://image.tmdb.org/t/p/w500/bewmBcjJxHeipS...   \n",
       "16045  https://image.tmdb.org/t/p/w500/dVTPl57aAkGeui...   \n",
       "\n",
       "                                             description  \\\n",
       "16041  When a mysterious animal attack leaves a mutil...   \n",
       "16042  Ex-con turned \"scrapper\" Jake leads a quiet li...   \n",
       "16043  On the day before her wedding to a hipster pla...   \n",
       "16044  In the late 19th century, a brutal land baron ...   \n",
       "16045  The inspiring story of four Zimbabwean men who...   \n",
       "\n",
       "                      directors  \n",
       "16041         Mark Andrew Hamer  \n",
       "16042                 Bari Kang  \n",
       "16043  Sean Dube, Presley Paras  \n",
       "16044                Sean Ellis  \n",
       "16045  Warwick Ross, Robert Coe  "
      ]
     },
     "execution_count": 12,
     "metadata": {},
     "output_type": "execute_result"
    }
   ],
   "source": [
    "movie_director_df.tail()"
   ]
  },
  {
   "cell_type": "code",
   "execution_count": 13,
   "id": "16741f19",
   "metadata": {},
   "outputs": [],
   "source": [
    "movie_director_df.to_csv(\"../backend/data/movie_director.csv\", index=False, encoding=\"utf-8\", sep=\"\\t\")"
   ]
  },
  {
   "cell_type": "code",
   "execution_count": null,
   "id": "9becdef0",
   "metadata": {},
   "outputs": [],
   "source": []
  }
 ],
 "metadata": {
  "kernelspec": {
   "display_name": "base",
   "language": "python",
   "name": "python3"
  },
  "language_info": {
   "codemirror_mode": {
    "name": "ipython",
    "version": 3
   },
   "file_extension": ".py",
   "mimetype": "text/x-python",
   "name": "python",
   "nbconvert_exporter": "python",
   "pygments_lexer": "ipython3",
   "version": "3.12.2"
  }
 },
 "nbformat": 4,
 "nbformat_minor": 5
}
