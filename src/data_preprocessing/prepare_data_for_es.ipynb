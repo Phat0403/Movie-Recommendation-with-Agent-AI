{
 "cells": [
  {
   "cell_type": "code",
   "execution_count": 64,
   "id": "6e8770e3",
   "metadata": {},
   "outputs": [],
   "source": [
    "import pandas as pd"
   ]
  },
  {
   "cell_type": "code",
   "execution_count": 65,
   "id": "aac06c51",
   "metadata": {},
   "outputs": [],
   "source": [
    "movie_df = pd.read_csv(\"../backend/data/movies_2020_new.csv\")\n",
    "principal_df = pd.read_csv(\"../backend/data/new_title_principals.csv\")\n",
    "name_df = pd.read_csv(\"../backend/data/new_name_basics.csv\")"
   ]
  },
  {
   "cell_type": "code",
   "execution_count": 66,
   "id": "1e3a2181",
   "metadata": {},
   "outputs": [],
   "source": [
    "# left join movie_df with principal_df\n",
    "movie_df = movie_df.merge(principal_df, on=\"tconst\", how=\"left\")\n",
    "# left join movie_df with name_df\n",
    "movie_df = movie_df.merge(name_df, left_on=\"nconst\", right_on=\"nconst\", how=\"left\")"
   ]
  },
  {
   "cell_type": "code",
   "execution_count": 67,
   "id": "15a78e0a",
   "metadata": {},
   "outputs": [
    {
     "data": {
      "text/plain": [
       "Index(['tconst', 'titleType', 'primaryTitle', 'originalTitle', 'isAdult',\n",
       "       'startYear', 'runtimeMinutes', 'genres', 'posterPath', 'backdropPath',\n",
       "       'trailerPath', 'description', 'ordering', 'nconst', 'category', 'job',\n",
       "       'characters', 'primaryName', 'birthYear', 'deathYear',\n",
       "       'primaryProfession', 'knownForTitles'],\n",
       "      dtype='object')"
      ]
     },
     "execution_count": 67,
     "metadata": {},
     "output_type": "execute_result"
    }
   ],
   "source": [
    "movie_df.columns"
   ]
  },
  {
   "cell_type": "code",
   "execution_count": 68,
   "id": "da0b3b0a",
   "metadata": {},
   "outputs": [],
   "source": [
    "movie_director_df = movie_df[(movie_df[\"category\"] == \"director\")].reset_index(drop=True)"
   ]
  },
  {
   "cell_type": "code",
   "execution_count": 69,
   "id": "e42f8129",
   "metadata": {},
   "outputs": [
    {
     "name": "stderr",
     "output_type": "stream",
     "text": [
      "/tmp/ipykernel_20798/3164321350.py:1: FutureWarning: A value is trying to be set on a copy of a DataFrame or Series through chained assignment using an inplace method.\n",
      "The behavior will change in pandas 3.0. This inplace method will never work because the intermediate object on which we are setting values always behaves as a copy.\n",
      "\n",
      "For example, when doing 'df[col].method(value, inplace=True)', try using 'df.method({col: value}, inplace=True)' or df[col] = df[col].method(value) instead, to perform the operation inplace on the original object.\n",
      "\n",
      "\n",
      "  movie_director_df[\"primaryName\"].fillna(\"Unknown\", inplace=True)\n"
     ]
    }
   ],
   "source": [
    "movie_director_df[\"primaryName\"].fillna(\"Unknown\", inplace=True)"
   ]
  },
  {
   "cell_type": "code",
   "execution_count": 70,
   "id": "f3a06ecb",
   "metadata": {},
   "outputs": [
    {
     "data": {
      "text/plain": [
       "(58810, 13)"
      ]
     },
     "execution_count": 70,
     "metadata": {},
     "output_type": "execute_result"
    }
   ],
   "source": [
    "movie_director_list_df = movie_director_df.groupby(\"tconst\")[\"primaryName\"].apply(lambda x: ', '.join(x)).reset_index()\n",
    "movie_df = pd.read_csv(\"../backend/data/movies_2020_new.csv\")\n",
    "movie_director_df = movie_df.merge(movie_director_list_df, on=\"tconst\", how=\"left\")\n",
    "# movie_director_df = movie_df.drop(columns=[\"nconst\", \"category\"]).merge(movie_director_list_df, on=\"tconst\", how=\"left\")\n",
    "movie_director_df.shape"
   ]
  },
  {
   "cell_type": "code",
   "execution_count": 73,
   "id": "a1474b03",
   "metadata": {},
   "outputs": [
    {
     "data": {
      "text/plain": [
       "Index(['tconst', 'titleType', 'primaryTitle', 'originalTitle', 'isAdult',\n",
       "       'startYear', 'runtimeMinutes', 'genres', 'posterPath', 'backdropPath',\n",
       "       'trailerPath', 'description', 'primaryName'],\n",
       "      dtype='object')"
      ]
     },
     "execution_count": 73,
     "metadata": {},
     "output_type": "execute_result"
    }
   ],
   "source": [
    "movie_director_df.columns"
   ]
  },
  {
   "cell_type": "code",
   "execution_count": 75,
   "id": "47a68e3e",
   "metadata": {},
   "outputs": [],
   "source": [
    "movie_director_df.rename(columns={\"primaryName\": \"directors\"}, inplace=True)"
   ]
  },
  {
   "cell_type": "code",
   "execution_count": 77,
   "id": "6b7339a6",
   "metadata": {},
   "outputs": [],
   "source": [
    "movie_director_df = movie_director_df[[\"tconst\", \"primaryTitle\", \"originalTitle\", \"directors\", \"posterPath\", \"genres\", \"description\"]]"
   ]
  },
  {
   "cell_type": "code",
   "execution_count": 78,
   "id": "45f0abfc",
   "metadata": {},
   "outputs": [],
   "source": [
    "movie_director_df = movie_df.merge(movie_director_df, on=\"tconst\", how=\"left\").rename({\"primaryTitle_x\":\"primaryTitle\"}, axis=1)"
   ]
  },
  {
   "cell_type": "code",
   "execution_count": null,
   "id": "fe234679",
   "metadata": {},
   "outputs": [],
   "source": []
  }
 ],
 "metadata": {
  "kernelspec": {
   "display_name": "base",
   "language": "python",
   "name": "python3"
  },
  "language_info": {
   "codemirror_mode": {
    "name": "ipython",
    "version": 3
   },
   "file_extension": ".py",
   "mimetype": "text/x-python",
   "name": "python",
   "nbconvert_exporter": "python",
   "pygments_lexer": "ipython3",
   "version": "3.12.2"
  }
 },
 "nbformat": 4,
 "nbformat_minor": 5
}
